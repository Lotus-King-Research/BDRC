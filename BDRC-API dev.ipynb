{
 "cells": [
  {
   "cell_type": "code",
   "execution_count": 2,
   "id": "ba2264ca",
   "metadata": {},
   "outputs": [],
   "source": []
  },
  {
   "cell_type": "code",
   "execution_count": 7,
   "id": "ad876134",
   "metadata": {},
   "outputs": [],
   "source": [
    "def bdrc_api(rid, mode='meta'):\n",
    "    \n",
    "    import rdflib\n",
    "    import requests\n",
    "    \n",
    "    '''Makes call to BDRC API and returns data\n",
    "    for a given RID.\n",
    "    \n",
    "    rid | str | a BDRC Resource ID (RID)\n",
    "    mode | str | either 'meta' or 'outline'\n",
    "    \n",
    "    '''\n",
    "\n",
    "    if mode == 'meta':\n",
    "        query_url = 'http://purl.bdrc.io/query/graph/OP_info?R_RES=bdr:' + rid + '&format=ttl'\n",
    "    \n",
    "    if mode == 'outline':\n",
    "        query_url = 'http://purl.bdrc.io/graph/' + rid + '.ttl'\n",
    "\n",
    "    return requests.get(query_url)"
   ]
  },
  {
   "cell_type": "code",
   "execution_count": 11,
   "id": "7e94f172",
   "metadata": {},
   "outputs": [],
   "source": [
    "import rdflib"
   ]
  },
  {
   "cell_type": "code",
   "execution_count": 13,
   "id": "fca24f16",
   "metadata": {},
   "outputs": [],
   "source": [
    "from rdflib import Graph\n",
    "graph = Graph()\n",
    "graph = graph.parse(bdrc_api('W10736', mode='meta').content, format='ttl')"
   ]
  },
  {
   "cell_type": "code",
   "execution_count": 19,
   "id": "3c3e46fd",
   "metadata": {},
   "outputs": [],
   "source": [
    "for i in graph."
   ]
  },
  {
   "cell_type": "code",
   "execution_count": null,
   "id": "59ef7d45",
   "metadata": {},
   "outputs": [],
   "source": []
  },
  {
   "cell_type": "code",
   "execution_count": null,
   "id": "1465133a",
   "metadata": {},
   "outputs": [],
   "source": []
  }
 ],
 "metadata": {
  "kernelspec": {
   "display_name": "Python 3 (ipykernel)",
   "language": "python",
   "name": "python3"
  },
  "language_info": {
   "codemirror_mode": {
    "name": "ipython",
    "version": 3
   },
   "file_extension": ".py",
   "mimetype": "text/x-python",
   "name": "python",
   "nbconvert_exporter": "python",
   "pygments_lexer": "ipython3",
   "version": "3.8.11"
  }
 },
 "nbformat": 4,
 "nbformat_minor": 5
}
